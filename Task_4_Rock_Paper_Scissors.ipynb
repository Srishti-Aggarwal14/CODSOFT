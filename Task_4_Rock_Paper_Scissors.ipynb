{
  "nbformat": 4,
  "nbformat_minor": 0,
  "metadata": {
    "colab": {
      "provenance": [],
      "authorship_tag": "ABX9TyPb+f4bZvdILJiYHmbmZ7D4",
      "include_colab_link": true
    },
    "kernelspec": {
      "name": "python3",
      "display_name": "Python 3"
    },
    "language_info": {
      "name": "python"
    }
  },
  "cells": [
    {
      "cell_type": "markdown",
      "metadata": {
        "id": "view-in-github",
        "colab_type": "text"
      },
      "source": [
        "<a href=\"https://colab.research.google.com/github/Srishti-Aggarwal14/CODSOFT/blob/main/Task_4_Rock_Paper_Scissors.ipynb\" target=\"_parent\"><img src=\"https://colab.research.google.com/assets/colab-badge.svg\" alt=\"Open In Colab\"/></a>"
      ]
    },
    {
      "cell_type": "code",
      "source": [
        "import random\n",
        "def get_user_choice():\n",
        "  print(\"\\nChoose one: rock,paper,scissors\")\n",
        "  user_choice=input(\"Your choice: \").lower()\n",
        "  if user_choice not in ['rock','paper','scissors']:\n",
        "     print(\"Invalid choice.Please try again\")\n",
        "     return user_choice\n",
        "  return user_choice\n",
        "def get_computer_choice():\n",
        "  return random.choice(['rock','paper','scissors'])\n",
        "def determine_winner(user,computer):\n",
        "  print(f\"\\nYou chose: {user}\")\n",
        "  print(f\"Computer chose: {computer}\")\n",
        "  if user==computer:\n",
        "    return \"It's a draw!\"\n",
        "  elif (user=='rock' and computer=='scissors') or \\\n",
        "       (user=='paper' and computer=='rock') or \\\n",
        "       (user=='scissors' and computer=='paper'):\n",
        "       return \"You win!\"\n",
        "  else:\n",
        "    return \"You lose!\"\n",
        "def play_ground():\n",
        "  print(\"Welcome to Rock, Paper, Scissors!\")\n",
        "  while True:\n",
        "    user_choice=get_user_choice()\n",
        "    computer_choice=get_computer_choice()\n",
        "    result=determine_winner(user_choice,computer_choice)\n",
        "    print(result)\n",
        "    play_again=input(\"Do you want to play again? (y/n):\").lower()\n",
        "    if play_again!='y':\n",
        "      print(\"Thanks for playing\")\n",
        "      break\n",
        "play_ground()\n"
      ],
      "metadata": {
        "colab": {
          "base_uri": "https://localhost:8080/"
        },
        "id": "eQHta41k675U",
        "outputId": "e39109af-9294-47a0-92da-df073b9e1949"
      },
      "execution_count": 13,
      "outputs": [
        {
          "output_type": "stream",
          "name": "stdout",
          "text": [
            "Welcome to Rock, Paper, Scissors!\n",
            "\n",
            "Choose one: rock,paper,scissors\n",
            "Your choice: rock\n",
            "\n",
            "You chose: rock\n",
            "Computer chose: scissors\n",
            "You win!\n",
            "Do you want to play again? (y/n):y\n",
            "\n",
            "Choose one: rock,paper,scissors\n",
            "Your choice: paper\n",
            "\n",
            "You chose: paper\n",
            "Computer chose: paper\n",
            "It's a draw!\n",
            "Do you want to play again? (y/n):n\n",
            "Thanks for playing\n"
          ]
        }
      ]
    }
  ]
}