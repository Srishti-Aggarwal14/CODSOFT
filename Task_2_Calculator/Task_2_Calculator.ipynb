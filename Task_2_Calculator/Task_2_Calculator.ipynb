{
  "nbformat": 4,
  "nbformat_minor": 0,
  "metadata": {
    "colab": {
      "provenance": [],
      "authorship_tag": "ABX9TyP0Vmsdps88f5Cb6kdPHGFE",
      "include_colab_link": true
    },
    "kernelspec": {
      "name": "python3",
      "display_name": "Python 3"
    },
    "language_info": {
      "name": "python"
    }
  },
  "cells": [
    {
      "cell_type": "markdown",
      "metadata": {
        "id": "view-in-github",
        "colab_type": "text"
      },
      "source": [
        "<a href=\"https://colab.research.google.com/github/Srishti-Aggarwal14/CODSOFT/blob/main/Task_2_Calculator/Task_2_Calculator.ipynb\" target=\"_parent\"><img src=\"https://colab.research.google.com/assets/colab-badge.svg\" alt=\"Open In Colab\"/></a>"
      ]
    },
    {
      "cell_type": "code",
      "execution_count": 3,
      "metadata": {
        "colab": {
          "base_uri": "https://localhost:8080/"
        },
        "id": "nFp16-fFuihg",
        "outputId": "b614fb1d-dd20-42bb-ee88-5c74deca2743"
      },
      "outputs": [
        {
          "output_type": "stream",
          "name": "stdout",
          "text": [
            "Welcome to the Simple Calculator!\n",
            "\n",
            "Select Operation\n",
            "1. Add\n",
            "2. Subtract\n",
            "3. Multiply\n",
            "4. Divide\n",
            "5. Exit\n",
            "Enter choice (1/2/3/4/5): 1\n",
            "Enter the first number: 15\n",
            "Enter the second number: 7\n",
            "Result:  22.0\n",
            "\n",
            "Select Operation\n",
            "1. Add\n",
            "2. Subtract\n",
            "3. Multiply\n",
            "4. Divide\n",
            "5. Exit\n",
            "Enter choice (1/2/3/4/5): 2\n",
            "Enter the first number: 12\n",
            "Enter the second number: 3\n",
            "Result:  9.0\n",
            "\n",
            "Select Operation\n",
            "1. Add\n",
            "2. Subtract\n",
            "3. Multiply\n",
            "4. Divide\n",
            "5. Exit\n",
            "Enter choice (1/2/3/4/5): 3\n",
            "Enter the first number: 6\n",
            "Enter the second number: 8\n",
            "Result:  48.0\n",
            "\n",
            "Select Operation\n",
            "1. Add\n",
            "2. Subtract\n",
            "3. Multiply\n",
            "4. Divide\n",
            "5. Exit\n",
            "Enter choice (1/2/3/4/5): 4\n",
            "Enter the first number: 10\n",
            "Enter the second number: 0\n",
            "Result:  Error: Division by zero not possible\n",
            "\n",
            "Select Operation\n",
            "1. Add\n",
            "2. Subtract\n",
            "3. Multiply\n",
            "4. Divide\n",
            "5. Exit\n",
            "Enter choice (1/2/3/4/5): 5\n",
            "Thank you for using calculator!\n"
          ]
        }
      ],
      "source": [
        "def add(a,b):\n",
        "  return a+b\n",
        "def subtract(a,b):\n",
        "  return a-b\n",
        "def multiply(a,b):\n",
        "  return a*b\n",
        "def divide(a,b):\n",
        "  if b==0:\n",
        "    return \"Error: Division by zero not possible\"\n",
        "  return a/b\n",
        "print(\"Welcome to the Simple Calculator!\")\n",
        "while True:\n",
        "  print(\"\\nSelect Operation\")\n",
        "  print(\"1. Add\")\n",
        "  print(\"2. Subtract\")\n",
        "  print(\"3. Multiply\")\n",
        "  print(\"4. Divide\")\n",
        "  print(\"5. Exit\")\n",
        "  choice = input(\"Enter choice (1/2/3/4/5): \")\n",
        "  if choice=='5':\n",
        "    print(\"Thank you for using calculator!\")\n",
        "    break\n",
        "  num1=float(input(\"Enter the first number: \"))\n",
        "  num2=float(input(\"Enter the second number: \"))\n",
        "  if choice=='1':\n",
        "    print(\"Result: \",add(num1,num2))\n",
        "  elif choice=='2':\n",
        "    print(\"Result: \",subtract(num1,num2))\n",
        "  elif choice=='3':\n",
        "    print(\"Result: \",multiply(num1,num2))\n",
        "  elif choice=='4':\n",
        "    print(\"Result: \",divide(num1,num2))\n",
        "  else:\n",
        "    print(\"Invalid input. Please choose from 1 to 5\")\n"
      ]
    }
  ]
}
