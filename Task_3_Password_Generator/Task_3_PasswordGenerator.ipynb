{
  "nbformat": 4,
  "nbformat_minor": 0,
  "metadata": {
    "colab": {
      "provenance": [],
      "authorship_tag": "ABX9TyMu+rbS8irurYC6yi15ejDl",
      "include_colab_link": true
    },
    "kernelspec": {
      "name": "python3",
      "display_name": "Python 3"
    },
    "language_info": {
      "name": "python"
    }
  },
  "cells": [
    {
      "cell_type": "markdown",
      "metadata": {
        "id": "view-in-github",
        "colab_type": "text"
      },
      "source": [
        "<a href=\"https://colab.research.google.com/github/Srishti-Aggarwal14/CODSOFT/blob/main/Task_3_Password_Generator/Task_3_PasswordGenerator.ipynb\" target=\"_parent\"><img src=\"https://colab.research.google.com/assets/colab-badge.svg\" alt=\"Open In Colab\"/></a>"
      ]
    },
    {
      "cell_type": "code",
      "execution_count": 2,
      "metadata": {
        "colab": {
          "base_uri": "https://localhost:8080/"
        },
        "id": "-Gn4ia5ffqD6",
        "outputId": "118810e4-6346-4d74-ceee-41d16d131521"
      },
      "outputs": [
        {
          "output_type": "stream",
          "name": "stdout",
          "text": [
            "Welcome to random password generator.\n",
            "Enter the length of the password:12\n",
            "Include digits(yes/no):y\n",
            "Include special characters(yes/no):yes\n",
            "\n",
            "Generated Password:\n",
            "&Pa%f>csy@Yz\n",
            "Thank you for generating password.\n"
          ]
        }
      ],
      "source": [
        "import random\n",
        "import string\n",
        "def generate_password(length=12,use_digits=True,use_special=True):\n",
        "  characters=string.ascii_letters\n",
        "  if use_digits:\n",
        "    characters+=string.digits\n",
        "  if use_special:\n",
        "    characters+=string.punctuation\n",
        "  password=''.join(random.choice(characters)for _ in range(length))\n",
        "  return password\n",
        "print(\"Welcome to random password generator.\")\n",
        "length=int(input(\"Enter the length of the password:\"))\n",
        "use_digits=input(\"Include digits(yes/no):\").strip().lower()=='yes'\n",
        "use_special=input(\"Include special characters(yes/no):\").strip().lower()=='yes'\n",
        "password=generate_password(length,use_digits,use_special)\n",
        "print(\"\\nGenerated Password:\")\n",
        "print(password)\n",
        "print(\"Thank you for generating password.\")\n"
      ]
    }
  ]
}